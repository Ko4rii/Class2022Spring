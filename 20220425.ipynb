{
  "nbformat": 4,
  "nbformat_minor": 0,
  "metadata": {
    "colab": {
      "name": "Untitled12.ipynb",
      "provenance": [],
      "authorship_tag": "ABX9TyPlV4ofNi8ytHVOnIMG8e21",
      "include_colab_link": true
    },
    "kernelspec": {
      "name": "python3",
      "display_name": "Python 3"
    },
    "language_info": {
      "name": "python"
    }
  },
  "cells": [
    {
      "cell_type": "markdown",
      "metadata": {
        "id": "view-in-github",
        "colab_type": "text"
      },
      "source": [
        "<a href=\"https://colab.research.google.com/github/Ko4rii/Class2022Spring/blob/main/20220425.ipynb\" target=\"_parent\"><img src=\"https://colab.research.google.com/assets/colab-badge.svg\" alt=\"Open In Colab\"/></a>"
      ]
    },
    {
      "cell_type": "markdown",
      "source": [
        "Auto correlation(자기 상관)\n",
        "* 연속된 관측치들에서 존재하는 상관관계\n",
        "* 지연 함수로서 임의의 시간 만큼 지연된 자체 복사본과 신호의 상관관계\n",
        "* 신호가 갖는 스펙트럼 특성 정보를 보여줌\n",
        "\n",
        "RMS: root mean square(제곱 평균 제곱근)\n",
        "* 원래의 값들을 제곱한 후 그것의 평균값에 루트를 씌움\n",
        "* 평균값과 매우 유사한 결과\n",
        "* 변화하는 값의 크기에 대한 통계적 척도 -> 사인함수처럼 변수들이 음과 양을 오고 갈 때에 유용함\n",
        "* 대표값 역할을 함"
      ],
      "metadata": {
        "id": "GpFqOlSWNNSi"
      }
    }
  ]
}