{
  "nbformat": 4,
  "nbformat_minor": 0,
  "metadata": {
    "colab": {
      "name": "Untitled0.ipynb",
      "provenance": [],
      "authorship_tag": "ABX9TyP/vpCmYZv799yCDW0qIO8b",
      "include_colab_link": true
    },
    "kernelspec": {
      "name": "python3",
      "display_name": "Python 3"
    },
    "language_info": {
      "name": "python"
    }
  },
  "cells": [
    {
      "cell_type": "markdown",
      "metadata": {
        "id": "view-in-github",
        "colab_type": "text"
      },
      "source": [
        "<a href=\"https://colab.research.google.com/github/Ko4rii/Class2022Spring/blob/main/20220328.ipynb\" target=\"_parent\"><img src=\"https://colab.research.google.com/assets/colab-badge.svg\" alt=\"Open In Colab\"/></a>"
      ]
    },
    {
      "cell_type": "code",
      "execution_count": null,
      "metadata": {
        "id": "_TYGR7Pv-liM"
      },
      "outputs": [],
      "source": [
        "!pip install gradio\n",
        "import gradio as gr\n",
        "import requests\n",
        "import pandas as pd"
      ]
    },
    {
      "cell_type": "code",
      "source": [
        "URL = ('http://apis.data.go.kr/6260000/FoodService/getFoodEn?serviceKey=IfP6S3pUTEI5Xq%2FKPo5zzDnltUmDq9%2B6KYfhC7NOiB89K388mQOtSNOd5Nmg%2F%2Fmrv43Nvk84kTPqX2ndOG2%2B2g%3D%3D&numOfRows=100&pageNo=1&resultType=json')\n",
        "response = requests.get(URL)"
      ],
      "metadata": {
        "id": "rTmyUljS-836"
      },
      "execution_count": 59,
      "outputs": []
    },
    {
      "cell_type": "code",
      "source": [
        "response"
      ],
      "metadata": {
        "id": "aa-m55IlDiKG"
      },
      "execution_count": null,
      "outputs": []
    },
    {
      "cell_type": "markdown",
      "source": [
        "http://jsonviewer.stack.hu/ "
      ],
      "metadata": {
        "id": "JwAJI2ylDe55"
      }
    },
    {
      "cell_type": "code",
      "source": [
        "r = response.json()\n",
        "r"
      ],
      "metadata": {
        "id": "nsDNIIZcE4LC"
      },
      "execution_count": null,
      "outputs": []
    },
    {
      "cell_type": "code",
      "source": [
        "print(type(r))"
      ],
      "metadata": {
        "id": "DyXZFnakLq6k"
      },
      "execution_count": null,
      "outputs": []
    },
    {
      "cell_type": "code",
      "source": [
        "items = r['getFoodEn']['item']\n",
        "items[0]"
      ],
      "metadata": {
        "id": "AbaYOjbnFCfU",
        "colab": {
          "base_uri": "https://localhost:8080/"
        },
        "outputId": "2c8403cf-1921-4ca9-d09d-87cb79eeb0a5"
      },
      "execution_count": 66,
      "outputs": [
        {
          "output_type": "execute_result",
          "data": {
            "text/plain": [
              "{'ADDR1': '602 Renault Samsung-daero, Gangseo-gu,',\n",
              " 'ADDR2': '',\n",
              " 'CNTCT_TEL': '+82 51-271-4389',\n",
              " 'GUGUN_NM': 'Gangseo-gu',\n",
              " 'HOMEPAGE_URL': '',\n",
              " 'ITEMCNTNTS': 'The restaurant specializes in hen clams and offers a variety of dishes—shabu-shabu, steamed, and grilled. Also famous for their hearty soup, hen clam shabu shabu and steamed clams are the top picks.\\n\\n',\n",
              " 'LAT': 35.101425,\n",
              " 'LNG': 128.92914,\n",
              " 'MAIN_IMG_NORMAL': 'https://www.visitbusan.net/uploadImgs/files/cntnts/20191216135832825_ttiel',\n",
              " 'MAIN_IMG_THUMB': 'https://www.visitbusan.net/uploadImgs/files/cntnts/20191216135832825_thumbL',\n",
              " 'MAIN_TITLE': '만호갈미 샤브샤브',\n",
              " 'PLACE': '',\n",
              " 'RPRSNTV_MENU': 'Hen Clam Shabu Shabu, Steamed Hen Clam',\n",
              " 'SUBTITLE': 'Manho-galmi Shabu Shabu (만호갈미 샤브샤브)',\n",
              " 'TITLE': 'Manho-galmi Shabu Shabu (만호갈미 샤브샤브)',\n",
              " 'UC_SEQ': 72,\n",
              " 'USAGE_DAY_WEEK_AND_TIME': '12:00p.m. ~ 21:30p.m.'}"
            ]
          },
          "metadata": {},
          "execution_count": 66
        }
      ]
    },
    {
      "cell_type": "code",
      "source": [
        "ADDR1 = [item['ADDR1'] for item in items]\n",
        "ADDR2 = [item['ADDR2'] for item in items]\n",
        "ITEMCNTNTS = [item['ITEMCNTNTS'] for item in items]\n",
        "MAIN_TITLE = [item['MAIN_TITLE'] for item in items]\n",
        "RPRSNTV_MENU = [item['RPRSNTV_MENU'] for item in items]\n",
        "TITLE = [item['TITLE'] for item in items]\n",
        "USAGE_DAY_WEEK_AND_TIME = [item['USAGE_DAY_WEEK_AND_TIME'] for item in items]\n",
        "\n",
        "ADDR1 = pd.Series(ADDR1)\n",
        "ADDR2 = pd.Series(ADDR2)   \n",
        "ITEMCNTNTS = pd.Series(ITEMCNTNTS)\n",
        "MAIN_TITLE = pd.Series(MAIN_TITLE)\n",
        "RPRSNTV_MENU = pd.Series(RPRSNTV_MENU)\n",
        "TITLE = pd.Series(TITLE)\n",
        "USAGE_DAY_WEEK_AND_TIME = pd.Series(USAGE_DAY_WEEK_AND_TIME)\n",
        "\n",
        "df = pd.DataFrame({'ADDR1': ADDR1, 'ADDR2': ADDR2, 'ITEMCNTNTS': ITEMCNTNTS, 'MAIN_TITLE': MAIN_TITLE, 'RPRSNTV_MENU': RPRSNTV_MENU, 'TITLE': TITLE, 'USAGE_DAY_WEEK_AND_TIME': USAGE_DAY_WEEK_AND_TIME})"
      ],
      "metadata": {
        "id": "h1Zlokt8NSn3"
      },
      "execution_count": 68,
      "outputs": []
    },
    {
      "cell_type": "code",
      "source": [
        "df"
      ],
      "metadata": {
        "colab": {
          "base_uri": "https://localhost:8080/",
          "height": 815
        },
        "id": "cTEai2OuPJTR",
        "outputId": "625a7c81-baab-4156-a8a1-c945af01ffd5"
      },
      "execution_count": 69,
      "outputs": [
        {
          "output_type": "execute_result",
          "data": {
            "text/plain": [
              "                                          ADDR1 ADDR2  \\\n",
              "0        602 Renault Samsung-daero, Gangseo-gu,         \n",
              "1              5, Dunchijungang-gil, Gangseo-gu         \n",
              "2                 104, Jeoryeong-ro, Yeongdo-gu         \n",
              "3    32, World cup-daero 145beon-gil, Yeonje-gu         \n",
              "4   23-6, Jungang-daero 1235beon-gil, Yeonje-gu         \n",
              "..                                          ...   ...   \n",
              "95       14, Jungang-daero 349beon-gil, Dong-gu         \n",
              "96       38, Jungang-daero 349beon-gil, Dong-gu         \n",
              "97    12-13, Jungang-daero 180beon-gil, Dong-gu         \n",
              "98                 26, Choryangjung-ro, Dong-gu         \n",
              "99                     67, Minam-ro, Dongnae-gu         \n",
              "\n",
              "                                           ITEMCNTNTS MAIN_TITLE  \\\n",
              "0   The restaurant specializes in hen clams and of...  만호갈미 샤브샤브   \n",
              "1   This braised fish restaurant has been operatin...       민물가든   \n",
              "2   This is a popular pearl-spot chromis specialty...       부흥식당   \n",
              "3   This restaurant specializes in milmyeon (wheat...     가야할매밀면   \n",
              "4   It is one of the most famous restaurants among...       국제밀면   \n",
              "..                                                ...        ...   \n",
              "95  This tasty and affordable hamburger steak rest...      고관 함박   \n",
              "96  This is a famous specialty store that has been...     고관 해물탕   \n",
              "97  Mirakjeong, a home-style restaurant known for ...        미락정   \n",
              "98  Run by a family for four generations, this res...        평산옥   \n",
              "99  Chilbaekjang Sikdang is a well-known“gisa sikd...      칠백장식당   \n",
              "\n",
              "                                         RPRSNTV_MENU  \\\n",
              "0              Hen Clam Shabu Shabu, Steamed Hen Clam   \n",
              "1        Braised Carp with Aged Kimchi,  Braised Carp   \n",
              "2   Jaridomhoe (Raw Slices of Pearl Chromis) ,  Ja...   \n",
              "3                      Mul Milmyeon, Bibim Milmyeon\\n   \n",
              "4                      Mul Milmyeon, Bibim Milmyeon\\n   \n",
              "..                                                ...   \n",
              "95  Hamburger Steak in a Stone Pot, Old-Fashioned ...   \n",
              "96                        Seafood Pot, Grilled Prawns   \n",
              "97  Saengseon Gui (Grilled Fish), Doenjangjjigae (...   \n",
              "98  Steamed Pork, Noodles, Yeolmu Guksu (Cold Nood...   \n",
              "99                                                      \n",
              "\n",
              "                                  TITLE  \\\n",
              "0   Manho-galmi Shabu Shabu (만호갈미 샤브샤브)   \n",
              "1                   MinmulGarden (민물가든)   \n",
              "2               Booheung Sikdang (부흥식당)   \n",
              "3        GayaHalmaeMaemilmyeon (가야할매밀면)   \n",
              "4                Gukjae Milmyeon (국제밀면)   \n",
              "..                                  ...   \n",
              "95                Gogwan Hambak (고관 함박)   \n",
              "96           Gogwan Haemultang (고관 해물탕)   \n",
              "97                     Mirakjeong (미락정)   \n",
              "98                    Pyeongsanok (평산옥)   \n",
              "99         Chilbaekjang Sikdang (칠백장식당)   \n",
              "\n",
              "                          USAGE_DAY_WEEK_AND_TIME  \n",
              "0                           12:00p.m. ~ 21:30p.m.  \n",
              "1                           11:00p.m. ~ 21:00p.m.  \n",
              "2                           11:00a.m. ~ 21:00p.m.  \n",
              "3                           11:00a.m. ~ 20:00p.m.  \n",
              "4                           10:00a.m. ~ 20:00p.m.  \n",
              "..                                            ...  \n",
              "95  am 11:00 ~ pm 21:00\\n15:30~16:30 (Break time)  \n",
              "96                            am 11:00 ~ pm 22:30  \n",
              "97                            am 10:00 ~ pm 20:00  \n",
              "98                            am 10:00 ~ pm 21:00  \n",
              "99                            am 10:00 ~ pm 22:00  \n",
              "\n",
              "[100 rows x 7 columns]"
            ],
            "text/html": [
              "\n",
              "  <div id=\"df-e175bc76-99a5-429d-8387-dee624c9f599\">\n",
              "    <div class=\"colab-df-container\">\n",
              "      <div>\n",
              "<style scoped>\n",
              "    .dataframe tbody tr th:only-of-type {\n",
              "        vertical-align: middle;\n",
              "    }\n",
              "\n",
              "    .dataframe tbody tr th {\n",
              "        vertical-align: top;\n",
              "    }\n",
              "\n",
              "    .dataframe thead th {\n",
              "        text-align: right;\n",
              "    }\n",
              "</style>\n",
              "<table border=\"1\" class=\"dataframe\">\n",
              "  <thead>\n",
              "    <tr style=\"text-align: right;\">\n",
              "      <th></th>\n",
              "      <th>ADDR1</th>\n",
              "      <th>ADDR2</th>\n",
              "      <th>ITEMCNTNTS</th>\n",
              "      <th>MAIN_TITLE</th>\n",
              "      <th>RPRSNTV_MENU</th>\n",
              "      <th>TITLE</th>\n",
              "      <th>USAGE_DAY_WEEK_AND_TIME</th>\n",
              "    </tr>\n",
              "  </thead>\n",
              "  <tbody>\n",
              "    <tr>\n",
              "      <th>0</th>\n",
              "      <td>602 Renault Samsung-daero, Gangseo-gu,</td>\n",
              "      <td></td>\n",
              "      <td>The restaurant specializes in hen clams and of...</td>\n",
              "      <td>만호갈미 샤브샤브</td>\n",
              "      <td>Hen Clam Shabu Shabu, Steamed Hen Clam</td>\n",
              "      <td>Manho-galmi Shabu Shabu (만호갈미 샤브샤브)</td>\n",
              "      <td>12:00p.m. ~ 21:30p.m.</td>\n",
              "    </tr>\n",
              "    <tr>\n",
              "      <th>1</th>\n",
              "      <td>5, Dunchijungang-gil, Gangseo-gu</td>\n",
              "      <td></td>\n",
              "      <td>This braised fish restaurant has been operatin...</td>\n",
              "      <td>민물가든</td>\n",
              "      <td>Braised Carp with Aged Kimchi,  Braised Carp</td>\n",
              "      <td>MinmulGarden (민물가든)</td>\n",
              "      <td>11:00p.m. ~ 21:00p.m.</td>\n",
              "    </tr>\n",
              "    <tr>\n",
              "      <th>2</th>\n",
              "      <td>104, Jeoryeong-ro, Yeongdo-gu</td>\n",
              "      <td></td>\n",
              "      <td>This is a popular pearl-spot chromis specialty...</td>\n",
              "      <td>부흥식당</td>\n",
              "      <td>Jaridomhoe (Raw Slices of Pearl Chromis) ,  Ja...</td>\n",
              "      <td>Booheung Sikdang (부흥식당)</td>\n",
              "      <td>11:00a.m. ~ 21:00p.m.</td>\n",
              "    </tr>\n",
              "    <tr>\n",
              "      <th>3</th>\n",
              "      <td>32, World cup-daero 145beon-gil, Yeonje-gu</td>\n",
              "      <td></td>\n",
              "      <td>This restaurant specializes in milmyeon (wheat...</td>\n",
              "      <td>가야할매밀면</td>\n",
              "      <td>Mul Milmyeon, Bibim Milmyeon\\n</td>\n",
              "      <td>GayaHalmaeMaemilmyeon (가야할매밀면)</td>\n",
              "      <td>11:00a.m. ~ 20:00p.m.</td>\n",
              "    </tr>\n",
              "    <tr>\n",
              "      <th>4</th>\n",
              "      <td>23-6, Jungang-daero 1235beon-gil, Yeonje-gu</td>\n",
              "      <td></td>\n",
              "      <td>It is one of the most famous restaurants among...</td>\n",
              "      <td>국제밀면</td>\n",
              "      <td>Mul Milmyeon, Bibim Milmyeon\\n</td>\n",
              "      <td>Gukjae Milmyeon (국제밀면)</td>\n",
              "      <td>10:00a.m. ~ 20:00p.m.</td>\n",
              "    </tr>\n",
              "    <tr>\n",
              "      <th>...</th>\n",
              "      <td>...</td>\n",
              "      <td>...</td>\n",
              "      <td>...</td>\n",
              "      <td>...</td>\n",
              "      <td>...</td>\n",
              "      <td>...</td>\n",
              "      <td>...</td>\n",
              "    </tr>\n",
              "    <tr>\n",
              "      <th>95</th>\n",
              "      <td>14, Jungang-daero 349beon-gil, Dong-gu</td>\n",
              "      <td></td>\n",
              "      <td>This tasty and affordable hamburger steak rest...</td>\n",
              "      <td>고관 함박</td>\n",
              "      <td>Hamburger Steak in a Stone Pot, Old-Fashioned ...</td>\n",
              "      <td>Gogwan Hambak (고관 함박)</td>\n",
              "      <td>am 11:00 ~ pm 21:00\\n15:30~16:30 (Break time)</td>\n",
              "    </tr>\n",
              "    <tr>\n",
              "      <th>96</th>\n",
              "      <td>38, Jungang-daero 349beon-gil, Dong-gu</td>\n",
              "      <td></td>\n",
              "      <td>This is a famous specialty store that has been...</td>\n",
              "      <td>고관 해물탕</td>\n",
              "      <td>Seafood Pot, Grilled Prawns</td>\n",
              "      <td>Gogwan Haemultang (고관 해물탕)</td>\n",
              "      <td>am 11:00 ~ pm 22:30</td>\n",
              "    </tr>\n",
              "    <tr>\n",
              "      <th>97</th>\n",
              "      <td>12-13, Jungang-daero 180beon-gil, Dong-gu</td>\n",
              "      <td></td>\n",
              "      <td>Mirakjeong, a home-style restaurant known for ...</td>\n",
              "      <td>미락정</td>\n",
              "      <td>Saengseon Gui (Grilled Fish), Doenjangjjigae (...</td>\n",
              "      <td>Mirakjeong (미락정)</td>\n",
              "      <td>am 10:00 ~ pm 20:00</td>\n",
              "    </tr>\n",
              "    <tr>\n",
              "      <th>98</th>\n",
              "      <td>26, Choryangjung-ro, Dong-gu</td>\n",
              "      <td></td>\n",
              "      <td>Run by a family for four generations, this res...</td>\n",
              "      <td>평산옥</td>\n",
              "      <td>Steamed Pork, Noodles, Yeolmu Guksu (Cold Nood...</td>\n",
              "      <td>Pyeongsanok (평산옥)</td>\n",
              "      <td>am 10:00 ~ pm 21:00</td>\n",
              "    </tr>\n",
              "    <tr>\n",
              "      <th>99</th>\n",
              "      <td>67, Minam-ro, Dongnae-gu</td>\n",
              "      <td></td>\n",
              "      <td>Chilbaekjang Sikdang is a well-known“gisa sikd...</td>\n",
              "      <td>칠백장식당</td>\n",
              "      <td></td>\n",
              "      <td>Chilbaekjang Sikdang (칠백장식당)</td>\n",
              "      <td>am 10:00 ~ pm 22:00</td>\n",
              "    </tr>\n",
              "  </tbody>\n",
              "</table>\n",
              "<p>100 rows × 7 columns</p>\n",
              "</div>\n",
              "      <button class=\"colab-df-convert\" onclick=\"convertToInteractive('df-e175bc76-99a5-429d-8387-dee624c9f599')\"\n",
              "              title=\"Convert this dataframe to an interactive table.\"\n",
              "              style=\"display:none;\">\n",
              "        \n",
              "  <svg xmlns=\"http://www.w3.org/2000/svg\" height=\"24px\"viewBox=\"0 0 24 24\"\n",
              "       width=\"24px\">\n",
              "    <path d=\"M0 0h24v24H0V0z\" fill=\"none\"/>\n",
              "    <path d=\"M18.56 5.44l.94 2.06.94-2.06 2.06-.94-2.06-.94-.94-2.06-.94 2.06-2.06.94zm-11 1L8.5 8.5l.94-2.06 2.06-.94-2.06-.94L8.5 2.5l-.94 2.06-2.06.94zm10 10l.94 2.06.94-2.06 2.06-.94-2.06-.94-.94-2.06-.94 2.06-2.06.94z\"/><path d=\"M17.41 7.96l-1.37-1.37c-.4-.4-.92-.59-1.43-.59-.52 0-1.04.2-1.43.59L10.3 9.45l-7.72 7.72c-.78.78-.78 2.05 0 2.83L4 21.41c.39.39.9.59 1.41.59.51 0 1.02-.2 1.41-.59l7.78-7.78 2.81-2.81c.8-.78.8-2.07 0-2.86zM5.41 20L4 18.59l7.72-7.72 1.47 1.35L5.41 20z\"/>\n",
              "  </svg>\n",
              "      </button>\n",
              "      \n",
              "  <style>\n",
              "    .colab-df-container {\n",
              "      display:flex;\n",
              "      flex-wrap:wrap;\n",
              "      gap: 12px;\n",
              "    }\n",
              "\n",
              "    .colab-df-convert {\n",
              "      background-color: #E8F0FE;\n",
              "      border: none;\n",
              "      border-radius: 50%;\n",
              "      cursor: pointer;\n",
              "      display: none;\n",
              "      fill: #1967D2;\n",
              "      height: 32px;\n",
              "      padding: 0 0 0 0;\n",
              "      width: 32px;\n",
              "    }\n",
              "\n",
              "    .colab-df-convert:hover {\n",
              "      background-color: #E2EBFA;\n",
              "      box-shadow: 0px 1px 2px rgba(60, 64, 67, 0.3), 0px 1px 3px 1px rgba(60, 64, 67, 0.15);\n",
              "      fill: #174EA6;\n",
              "    }\n",
              "\n",
              "    [theme=dark] .colab-df-convert {\n",
              "      background-color: #3B4455;\n",
              "      fill: #D2E3FC;\n",
              "    }\n",
              "\n",
              "    [theme=dark] .colab-df-convert:hover {\n",
              "      background-color: #434B5C;\n",
              "      box-shadow: 0px 1px 3px 1px rgba(0, 0, 0, 0.15);\n",
              "      filter: drop-shadow(0px 1px 2px rgba(0, 0, 0, 0.3));\n",
              "      fill: #FFFFFF;\n",
              "    }\n",
              "  </style>\n",
              "\n",
              "      <script>\n",
              "        const buttonEl =\n",
              "          document.querySelector('#df-e175bc76-99a5-429d-8387-dee624c9f599 button.colab-df-convert');\n",
              "        buttonEl.style.display =\n",
              "          google.colab.kernel.accessAllowed ? 'block' : 'none';\n",
              "\n",
              "        async function convertToInteractive(key) {\n",
              "          const element = document.querySelector('#df-e175bc76-99a5-429d-8387-dee624c9f599');\n",
              "          const dataTable =\n",
              "            await google.colab.kernel.invokeFunction('convertToInteractive',\n",
              "                                                     [key], {});\n",
              "          if (!dataTable) return;\n",
              "\n",
              "          const docLinkHtml = 'Like what you see? Visit the ' +\n",
              "            '<a target=\"_blank\" href=https://colab.research.google.com/notebooks/data_table.ipynb>data table notebook</a>'\n",
              "            + ' to learn more about interactive tables.';\n",
              "          element.innerHTML = '';\n",
              "          dataTable['output_type'] = 'display_data';\n",
              "          await google.colab.output.renderOutput(dataTable, element);\n",
              "          const docLink = document.createElement('div');\n",
              "          docLink.innerHTML = docLinkHtml;\n",
              "          element.appendChild(docLink);\n",
              "        }\n",
              "      </script>\n",
              "    </div>\n",
              "  </div>\n",
              "  "
            ]
          },
          "metadata": {},
          "execution_count": 69
        }
      ]
    },
    {
      "cell_type": "code",
      "source": [
        "def test(pageNo):\n",
        "  URL = ('http://apis.data.go.kr/6260000/FoodService/getFoodEn?serviceKey=IfP6S3pUTEI5Xq%2FKPo5zzDnltUmDq9%2B6KYfhC7NOiB89K388mQOtSNOd5Nmg%2F%2Fmrv43Nvk84kTPqX2ndOG2%2B2g%3D%3D&numOfRows=100'\n",
        "         '&pageNo='+pageNo+\n",
        "         '&resultType=json')\n",
        "  response = requests.get(URL)\n",
        "  r = response.json()\n",
        "  items = r['getFoodEn']['item']\n",
        "\n",
        "  ADDR1 = [item['ADDR1'] for item in items]\n",
        "  ADDR2 = [item['ADDR2'] for item in items]\n",
        "  ITEMCNTNTS = [item['ITEMCNTNTS'] for item in items]\n",
        "  MAIN_TITLE = [item['MAIN_TITLE'] for item in items]\n",
        "  RPRSNTV_MENU = [item['RPRSNTV_MENU'] for item in items]\n",
        "  TITLE = [item['TITLE'] for item in items]\n",
        "  USAGE_DAY_WEEK_AND_TIME = [item['USAGE_DAY_WEEK_AND_TIME'] for item in items]\n",
        "\n",
        "  ADDR1 = pd.Series(ADDR1)\n",
        "  ADDR2 = pd.Series(ADDR2)   \n",
        "  ITEMCNTNTS = pd.Series(ITEMCNTNTS)\n",
        "  MAIN_TITLE = pd.Series(MAIN_TITLE)\n",
        "  RPRSNTV_MENU = pd.Series(RPRSNTV_MENU)\n",
        "  TITLE = pd.Series(TITLE)\n",
        "  USAGE_DAY_WEEK_AND_TIME = pd.Series(USAGE_DAY_WEEK_AND_TIME)\n",
        "\n",
        "  df = pd.DataFrame({'ADDR1': ADDR1, 'ADDR2': ADDR2, 'ITEMCNTNTS': ITEMCNTNTS, 'MAIN_TITLE': MAIN_TITLE, 'RPRSNTV_MENU': RPRSNTV_MENU, 'TITLE': TITLE, 'USAGE_DAY_WEEK_AND_TIME': USAGE_DAY_WEEK_AND_TIME})\n",
        "  return df"
      ],
      "metadata": {
        "id": "c8DohvC9RYrS"
      },
      "execution_count": 75,
      "outputs": []
    },
    {
      "cell_type": "code",
      "source": [
        "iface = gr.Interface(test, gr.inputs.Dropdown(['1','2','3','4']), outputs=['dataframe'])\n",
        "iface.launch(debug=True)"
      ],
      "metadata": {
        "colab": {
          "base_uri": "https://localhost:8080/",
          "height": 669
        },
        "id": "LMINqP_ATHbc",
        "outputId": "b74b63ec-b119-40a8-aeb1-3f4b119b8709"
      },
      "execution_count": 76,
      "outputs": [
        {
          "output_type": "stream",
          "name": "stdout",
          "text": [
            "Colab notebook detected. This cell will run indefinitely so that you can see errors and logs. To turn off, set debug=False in launch().\n",
            "Running on public URL: https://28187.gradio.app\n",
            "\n",
            "This share link expires in 72 hours. For free permanent hosting, check out Spaces (https://huggingface.co/spaces)\n"
          ]
        },
        {
          "output_type": "display_data",
          "data": {
            "text/plain": [
              "<IPython.lib.display.IFrame at 0x7f6c1157d490>"
            ],
            "text/html": [
              "\n",
              "        <iframe\n",
              "            width=\"900\"\n",
              "            height=\"500\"\n",
              "            src=\"https://28187.gradio.app\"\n",
              "            frameborder=\"0\"\n",
              "            allowfullscreen\n",
              "        ></iframe>\n",
              "        "
            ]
          },
          "metadata": {}
        },
        {
          "output_type": "stream",
          "name": "stdout",
          "text": [
            "Keyboard interruption in main thread... closing server.\n"
          ]
        },
        {
          "output_type": "execute_result",
          "data": {
            "text/plain": [
              "(<fastapi.applications.FastAPI at 0x7f6c1a236e50>,\n",
              " 'http://127.0.0.1:7860/',\n",
              " 'https://28187.gradio.app')"
            ]
          },
          "metadata": {},
          "execution_count": 76
        }
      ]
    }
  ]
}